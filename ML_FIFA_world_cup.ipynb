{
  "nbformat": 4,
  "nbformat_minor": 0,
  "metadata": {
    "colab": {
      "provenance": [],
      "authorship_tag": "ABX9TyOA0xPid8hOFwdaTONKMbOx",
      "include_colab_link": true
    },
    "kernelspec": {
      "name": "python3",
      "display_name": "Python 3"
    },
    "language_info": {
      "name": "python"
    }
  },
  "cells": [
    {
      "cell_type": "markdown",
      "metadata": {
        "id": "view-in-github",
        "colab_type": "text"
      },
      "source": [
        "<a href=\"https://colab.research.google.com/github/Hamaddogar/FIFA-CUP-won-ML-Model/blob/main/ML_FIFA_world_cup.ipynb\" target=\"_parent\"><img src=\"https://colab.research.google.com/assets/colab-badge.svg\" alt=\"Open In Colab\"/></a>"
      ]
    },
    {
      "cell_type": "code",
      "execution_count": null,
      "metadata": {
        "colab": {
          "base_uri": "https://localhost:8080/"
        },
        "id": "TVf9NUS1Dlcx",
        "outputId": "090f199e-8b5a-4107-d4d5-5f8567a271ac"
      },
      "outputs": [
        {
          "output_type": "stream",
          "name": "stdout",
          "text": [
            "✅ Data cleaned and saved as cleaned_results.csv\n"
          ]
        }
      ],
      "source": [
        "import pandas as pd\n",
        "\n",
        "# Step 1: Load files\n",
        "results = pd.read_csv('/content/sample_data/dataset/results.csv')\n",
        "goals = pd.read_csv('/content/sample_data/dataset/goalscorers.csv')\n",
        "shoutout = pd.read_csv('/content/sample_data/dataset/shootouts.csv')\n",
        "former = pd.read_csv('/content/sample_data/dataset/former_names.csv')\n",
        "\n",
        "# Step 2: Normalize Country Names using 'former_name.csv'\n",
        "former_dict = dict(zip(former['former'], former['current']))\n",
        "\n",
        "def normalize_country(name):\n",
        "    return former_dict.get(name, name)\n",
        "\n",
        "for col in ['home_team', 'away_team', 'country', 'team']:\n",
        "    if col in results.columns:\n",
        "        results[col] = results[col].apply(normalize_country)\n",
        "    if col in goals.columns:\n",
        "        goals[col] = goals[col].apply(normalize_country)\n",
        "    if col in shoutout.columns:\n",
        "        shoutout[col] = shoutout[col].apply(normalize_country)\n",
        "\n",
        "# Step 3: Add total goals per match\n",
        "goals['is_goal'] = 1\n",
        "goal_counts = goals.groupby(['date', 'team'])['is_goal'].count().reset_index()\n",
        "goal_counts = goal_counts.pivot(index='date', columns='team', values='is_goal').fillna(0)\n",
        "goal_counts.reset_index(inplace=True)\n",
        "\n",
        "# Merge with results\n",
        "results = results.merge(goal_counts, on='date', how='left')\n",
        "\n",
        "# Fill missing values\n",
        "results.fillna(0, inplace=True)\n",
        "\n",
        "# Step 3.5: Mark if match had a shootout\n",
        "results['shootout'] = results.apply(lambda row: (\n",
        "    ((shoutout['date'] == row['date']) &\n",
        "     (shoutout['home_team'] == row['home_team']) &\n",
        "     (shoutout['away_team'] == row['away_team']))\n",
        ").any(), axis=1)\n",
        "\n",
        "# Step 4: Save cleaned file\n",
        "results.to_csv('/content/sample_data/dataset/cleaned_results.csv', index=False)\n",
        "\n",
        "print(\"✅ Data cleaned and saved as cleaned_results.csv\")\n",
        "\n"
      ]
    },
    {
      "cell_type": "code",
      "source": [
        "import pandas as pd\n",
        "\n",
        "# Load cleaned dataset\n",
        "df = pd.read_csv(\"/content/sample_data/dataset/cleaned_results.csv\")\n",
        "\n",
        "# 1. Basic outcome features\n",
        "df['goal_difference'] = df['home_score'] - df['away_score']\n",
        "df['total_goals'] = df['home_score'] + df['away_score']\n",
        "\n",
        "df['home_win'] = (df['home_score'] > df['away_score']).astype(int)\n",
        "df['away_win'] = (df['away_score'] > df['home_score']).astype(int)\n",
        "df['draw'] = (df['home_score'] == df['away_score']).astype(int)\n",
        "active_teams = set(df['home_team']).union(set(df['away_team']))\n",
        "df = df[df['home_team'].isin(active_teams) & df['away_team'].isin(active_teams)]\n",
        "\n",
        "# 2. Match result label (for model)\n",
        "def result_label(row):\n",
        "    if row['home_score'] > row['away_score']:\n",
        "        return 'Home Win'\n",
        "    elif row['home_score'] < row['away_score']:\n",
        "        return 'Away Win'\n",
        "    else:\n",
        "        return 'Draw'\n",
        "\n",
        "df['match_result_for_home_team'] = df.apply(result_label, axis=1)\n",
        "\n",
        "# Optional: Convert date to datetime (important for time-based features later)\n",
        "df['date'] = pd.to_datetime(df['date'])\n",
        "\n",
        "# Save enhanced version\n",
        "df.to_csv(\"/content/sample_data/dataset/engineered_results.csv\", index=False)\n",
        "\n",
        "print(\"✅ Feature engineering complete! File saved as engineered_results.csv\")\n"
      ],
      "metadata": {
        "colab": {
          "base_uri": "https://localhost:8080/"
        },
        "id": "-hTKMORAueWP",
        "outputId": "f8b116aa-7562-40d8-b44a-a600a8a29304"
      },
      "execution_count": null,
      "outputs": [
        {
          "output_type": "stream",
          "name": "stdout",
          "text": [
            "✅ Feature engineering complete! File saved as engineered_results.csv\n"
          ]
        }
      ]
    },
    {
      "cell_type": "code",
      "source": [
        "import pandas as pd\n",
        "\n",
        "df = pd.read_csv(\"/content/sample_data/dataset/engineered_results.csv\")\n",
        "df['date'] = pd.to_datetime(df['date'])\n",
        "df['year'] = df['date'].dt.year\n",
        "home_df = df[['date', 'year', 'tournament', 'home_team', 'home_score', 'away_score', 'match_result_for_home_team']].copy()\n",
        "home_df.rename(columns={\n",
        "    'home_team': 'team',\n",
        "    'home_score': 'goals_for',\n",
        "    'away_score': 'goals_against'\n",
        "}, inplace=True)\n",
        "\n",
        "home_df['win'] = (home_df['match_result_for_home_team'] == 'Home Win').astype(int)\n",
        "home_df['draw'] = (home_df['match_result_for_home_team'] == 'Draw').astype(int)\n",
        "home_df['loss'] = (home_df['match_result_for_home_team'] == 'Away Win').astype(int)\n",
        "\n",
        "away_df = df[['date', 'year', 'tournament', 'away_team', 'away_score', 'home_score', 'match_result_for_home_team']].copy()\n",
        "away_df.rename(columns={\n",
        "    'away_team': 'team',\n",
        "    'away_score': 'goals_for',\n",
        "    'home_score': 'goals_against'\n",
        "}, inplace=True)\n",
        "\n",
        "# Flip the match result for the away team\n",
        "away_df['win'] = (away_df['match_result_for_home_team'] == 'Away Win').astype(int)\n",
        "away_df['draw'] = (away_df['match_result_for_home_team'] == 'Draw').astype(int)\n",
        "away_df['loss'] = (away_df['match_result_for_home_team'] == 'Home Win').astype(int)\n",
        "\n",
        "# Combine both\n",
        "team_match_df = pd.concat([home_df, away_df], ignore_index=True)\n",
        "team_stats = team_match_df.groupby(['team', 'year', 'tournament']).agg({\n",
        "    'goals_for': 'sum',\n",
        "    'goals_against': 'sum',\n",
        "    'win': 'sum',\n",
        "    'loss': 'sum',\n",
        "    'draw': 'sum',\n",
        "    'date': 'count'  # total matches\n",
        "}).reset_index()\n",
        "\n",
        "team_stats.rename(columns={'date': 'matches_played'}, inplace=True)\n",
        "\n",
        "# Calculate goal difference\n",
        "team_stats['goal_difference'] = team_stats['goals_for'] - team_stats['goals_against']\n",
        "# Get last match (final) for each tournament and year\n",
        "finals = df.sort_values('date').groupby(['year', 'tournament']).tail(1)\n",
        "\n",
        "finals['winner'] = finals.apply(lambda row: (\n",
        "    row['home_team'] if row['home_score'] > row['away_score']\n",
        "    else row['away_team'] if row['away_score'] > row['home_score']\n",
        "    else None  # or mark Draws separately\n",
        "), axis=1)\n",
        "\n",
        "# Merge winner label\n",
        "team_stats['won_tournament'] = team_stats.apply(lambda row: (\n",
        "    1 if (\n",
        "        (row['team'] in finals[\n",
        "            (finals['year'] == row['year']) &\n",
        "            (finals['tournament'] == row['tournament'])\n",
        "        ]['winner'].values)\n",
        "    ) else 0\n",
        "), axis=1)\n",
        "team_stats.to_csv('/content/sample_data/dataset/team_tournament_stats.csv', index=False)\n",
        "print(\"📊 Team-level data ready! Saved as team_tournament_stats.csv\")\n",
        "\n"
      ],
      "metadata": {
        "colab": {
          "base_uri": "https://localhost:8080/"
        },
        "id": "cKCXA0AB21ZC",
        "outputId": "965433e4-e698-4704-da9f-729ec58dc266"
      },
      "execution_count": 10,
      "outputs": [
        {
          "output_type": "stream",
          "name": "stdout",
          "text": [
            "📊 Team-level data ready! Saved as team_tournament_stats.csv\n"
          ]
        }
      ]
    },
    {
      "cell_type": "code",
      "source": [
        "import pandas as pd\n",
        "\n",
        "df = pd.read_csv(\"/content/sample_data/dataset/team_tournament_stats.csv\")\n",
        "# 🎯 Target\n",
        "target = 'won_tournament'\n",
        "\n",
        "# 🧠 Features\n",
        "features = ['matches_played', 'goals_for', 'goals_against', 'goal_difference', 'win', 'draw', 'loss']\n",
        "X = df[features]\n",
        "y = df[target]\n",
        "from sklearn.model_selection import train_test_split\n",
        "\n",
        "X_train, X_test, y_train, y_test = train_test_split(X, y, test_size=0.2, random_state=42)\n",
        "from sklearn.ensemble import RandomForestClassifier\n",
        "from sklearn.metrics import accuracy_score, classification_report\n",
        "\n",
        "model = RandomForestClassifier(n_estimators=100, random_state=42)\n",
        "model.fit(X_train, y_train)\n",
        "\n",
        "# 🧪 Predict on test set\n",
        "y_pred = model.predict(X_test)\n",
        "\n",
        "# ✅ Evaluate\n",
        "print(\"Accuracy:\", accuracy_score(y_test, y_pred))\n",
        "print(classification_report(y_test, y_pred))\n",
        "# precision: how many predicted winners were actually winners\n",
        "\n",
        "# recall: how many actual winners were predicted correctly\n",
        "\n",
        "# f1-score: balance of precision & recall\n",
        "\n",
        "# support: how many samples of each class were teste"
      ],
      "metadata": {
        "colab": {
          "base_uri": "https://localhost:8080/"
        },
        "id": "AOkHm-A67T5U",
        "outputId": "c97601c4-0e0c-4024-9063-b12424314294"
      },
      "execution_count": 12,
      "outputs": [
        {
          "output_type": "stream",
          "name": "stdout",
          "text": [
            "Accuracy: 0.9344808439755691\n",
            "              precision    recall  f1-score   support\n",
            "\n",
            "           0       0.94      0.99      0.97      5094\n",
            "           1       0.20      0.05      0.08       309\n",
            "\n",
            "    accuracy                           0.93      5403\n",
            "   macro avg       0.57      0.52      0.52      5403\n",
            "weighted avg       0.90      0.93      0.92      5403\n",
            "\n"
          ]
        }
      ]
    },
    {
      "cell_type": "code",
      "source": [
        "# Example: hypothetical 2025 team stats  it hard coded data\n",
        "fifa_2025 = pd.DataFrame([\n",
        "    {'team': 'Argentina', 'matches_played': 7, 'goals_for': 12, 'goals_against': 4, 'goal_difference': 8, 'win': 6, 'draw': 1, 'loss': 0},\n",
        "    {'team': 'France', 'matches_played': 7, 'goals_for': 11, 'goals_against': 5, 'goal_difference': 6, 'win': 5, 'draw': 2, 'loss': 0},\n",
        "     {'team': 'Brazil', 'matches_played': 7, 'goals_for': 13, 'goals_against': 5, 'goal_difference': 8, 'win': 5, 'draw': 1, 'loss': 1},\n",
        "])\n",
        "\n",
        "# Use same features\n",
        "X_2025 = fifa_2025[features]\n",
        "\n",
        "# Predict\n",
        "fifa_2025['winning_probability'] = model.predict_proba(X_2025)[:, 1]  # probability of class \"1\" = win\n",
        "fifa_2025['winning_percent'] = (fifa_2025['winning_probability'] * 100).round(2)\n",
        "\n",
        "# Sort by chance to win\n",
        "fifa_2025.sort_values('winning_probability', ascending=False, inplace=True)\n",
        "print(fifa_2025[['team', 'winning_probability', 'winning_percent']])\n",
        "\n"
      ],
      "metadata": {
        "id": "rtMbu-aR27xN",
        "colab": {
          "base_uri": "https://localhost:8080/"
        },
        "outputId": "c3f1642f-6e8b-495f-8aca-97eaedbe1096"
      },
      "execution_count": 11,
      "outputs": [
        {
          "output_type": "stream",
          "name": "stdout",
          "text": [
            "        team  winning_probability  winning_percent\n",
            "0  Argentina             0.612429            61.24\n",
            "1     France             0.100750            10.08\n",
            "2     Brazil             0.000000             0.00\n"
          ]
        }
      ]
    },
    {
      "cell_type": "code",
      "source": [
        "import matplotlib.pyplot as plt\n",
        "\n",
        "# Plot team winning percent\n",
        "plt.figure(figsize=(10, 6))\n",
        "plt.bar(fifa_2025['team'], fifa_2025['winning_percent'], color='skyblue')\n",
        "plt.xlabel('Team')\n",
        "plt.ylabel('Winning Chance (%)')\n",
        "plt.title('Predicted Winning Chance - FIFA 2025')\n",
        "plt.xticks(rotation=45)\n",
        "plt.tight_layout()\n",
        "plt.show()\n"
      ],
      "metadata": {
        "colab": {
          "base_uri": "https://localhost:8080/",
          "height": 528
        },
        "id": "B6R94036hSy6",
        "outputId": "3475d38f-b5a0-4427-91a3-0cb507d16dac"
      },
      "execution_count": 13,
      "outputs": [
        {
          "output_type": "display_data",
          "data": {
            "text/plain": [
              "<Figure size 1000x600 with 1 Axes>"
            ],
            "image/png": "[encoded data removed]"
          },
          "metadata": {}
        }
      ]
    }
  ]
}